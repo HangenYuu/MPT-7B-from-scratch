{
  "cells": [
    {
      "cell_type": "code",
      "source": [
        "%%capture\n",
        "# Colab-only\n",
        "!pip install -U einops transformers datasets torch"
      ],
      "metadata": {
        "id": "2VNngooBWPZQ"
      },
      "execution_count": 1,
      "outputs": []
    },
    {
      "cell_type": "markdown",
      "metadata": {
        "id": "8ov0PbMSWIoL"
      },
      "source": [
        "# Workflow:\n",
        "$$\n",
        "\\text{Text} \\xrightarrow{\\text{Tokenize}} \\text{Token IDs} \\xrightarrow{\\text{Embed}} \\text{Embeddings} \\xrightarrow{\\text{Multi-Head Attention}} \\text{Attention} \\xrightarrow{\\text{Feed Forward}} \\text{Output}\n",
        "$$"
      ]
    },
    {
      "cell_type": "markdown",
      "source": [
        "First, I need to get a tokenizer to tokenize the text.\n",
        "\n",
        "The researchers used byte-pair encoding to tokenize the inputs that seems to come from this repo: https://github.com/google/seq2seq\n",
        "\n",
        "However, I will cheat a bit by using a more recent one: BERT `AutoTokenizer`, offered by HuggingFace."
      ],
      "metadata": {
        "id": "-d-6JEFLWzJr"
      }
    },
    {
      "cell_type": "markdown",
      "source": [
        "# Encoder Attention"
      ],
      "metadata": {
        "id": "XOCjt0bP6Kp1"
      }
    },
    {
      "cell_type": "code",
      "execution_count": 2,
      "metadata": {
        "id": "4945l-sLWIoT"
      },
      "outputs": [],
      "source": [
        "import torch\n",
        "import torch.nn as nn\n",
        "from torch.nn import functional as F\n",
        "from transformers import AutoTokenizer, AutoConfig"
      ]
    },
    {
      "cell_type": "code",
      "execution_count": 3,
      "metadata": {
        "id": "8AitA4xcWIoX"
      },
      "outputs": [],
      "source": [
        "config = AutoConfig.from_pretrained(\"bert-base-uncased\")"
      ]
    },
    {
      "cell_type": "code",
      "execution_count": 4,
      "metadata": {
        "id": "JRUgFHebWIoZ"
      },
      "outputs": [],
      "source": [
        "class Embeddings(nn.Module):\n",
        "    def __init__(self, config) -> None:\n",
        "        super().__init__()\n",
        "        self.tok_embedder = nn.Embedding(config.vocab_size, config.hidden_size)\n",
        "        self.pos_embedder = nn.Embedding(config.max_position_embeddings, config.hidden_size)\n",
        "        self.ln = nn.LayerNorm(config.hidden_size, eps=config.layer_norm_eps)\n",
        "        self.dropout = nn.Dropout()\n",
        "\n",
        "    def forward(self, input_ids):\n",
        "        seq_length = input_ids.size(1)\n",
        "        position_ids = torch.arange(seq_length, dtype=torch.long).unsqueeze(0)\n",
        "\n",
        "        tok_emb = self.tok_embedder(input_ids)\n",
        "        pos_emb = self.pos_embedder(position_ids)\n",
        "        return self.dropout(self.ln(tok_emb + pos_emb))"
      ]
    },
    {
      "cell_type": "code",
      "execution_count": 5,
      "metadata": {
        "id": "JNxYsShFWIoa"
      },
      "outputs": [],
      "source": [
        "input_embedding = Embeddings(config)\n",
        "text = \"Time flies like an arrow.\"\n",
        "tokenizer = AutoTokenizer.from_pretrained(\"bert-base-uncased\")"
      ]
    },
    {
      "cell_type": "code",
      "execution_count": 6,
      "metadata": {
        "id": "_EDf8rbmWIoc",
        "outputId": "19c376b3-10d7-49b2-a1e7-44422f0960b4",
        "colab": {
          "base_uri": "https://localhost:8080/"
        }
      },
      "outputs": [
        {
          "output_type": "execute_result",
          "data": {
            "text/plain": [
              "torch.Size([1, 6])"
            ]
          },
          "metadata": {},
          "execution_count": 6
        }
      ],
      "source": [
        "tokens = tokenizer(text, return_tensors='pt', add_special_tokens=False)\n",
        "tokens.input_ids.size()"
      ]
    },
    {
      "cell_type": "code",
      "execution_count": 7,
      "metadata": {
        "id": "Bg0pEdV4WIof",
        "outputId": "cd0afb8f-14ac-47ce-8970-ade0baaffa9c",
        "colab": {
          "base_uri": "https://localhost:8080/"
        }
      },
      "outputs": [
        {
          "output_type": "execute_result",
          "data": {
            "text/plain": [
              "tensor([[ 2051, 10029,  2066,  2019,  8612,  1012]])"
            ]
          },
          "metadata": {},
          "execution_count": 7
        }
      ],
      "source": [
        "tokens.input_ids"
      ]
    },
    {
      "cell_type": "code",
      "execution_count": 8,
      "metadata": {
        "id": "5pZxCohPWIoh",
        "outputId": "0d058aea-c3c7-4a66-b53f-6985f9b6c85b",
        "colab": {
          "base_uri": "https://localhost:8080/"
        }
      },
      "outputs": [
        {
          "output_type": "execute_result",
          "data": {
            "text/plain": [
              "(torch.Size([1, 6, 768]),\n",
              " tensor([[[-0.0000,  0.0469,  0.0000,  ...,  2.5158, -0.0000, -0.0224],\n",
              "          [-0.0000, -0.0000,  3.3932,  ...,  0.0000,  0.0000, -1.9809],\n",
              "          [ 0.8667, -5.4253,  2.4648,  ...,  1.2762, -2.3111,  0.0000],\n",
              "          [-0.0000, -0.0000, -0.0000,  ..., -3.1015,  0.0000,  0.0000],\n",
              "          [ 0.0000, -0.0000, -0.0000,  ..., -0.1973, -0.0000,  0.0000],\n",
              "          [-2.2891,  0.0000, -0.0000,  ...,  0.0000, -0.0000,  1.6231]]],\n",
              "        grad_fn=<MulBackward0>))"
            ]
          },
          "metadata": {},
          "execution_count": 8
        }
      ],
      "source": [
        "tok_embs = input_embedding(tokens.input_ids)\n",
        "tok_embs.size(), tok_embs # (batch_size, seq_length, embedding)"
      ]
    },
    {
      "cell_type": "code",
      "source": [
        "config"
      ],
      "metadata": {
        "colab": {
          "base_uri": "https://localhost:8080/"
        },
        "id": "8yk0jfkMaxeQ",
        "outputId": "68ea1b78-aef1-431e-c771-f5f929d0e012"
      },
      "execution_count": 9,
      "outputs": [
        {
          "output_type": "execute_result",
          "data": {
            "text/plain": [
              "BertConfig {\n",
              "  \"_name_or_path\": \"bert-base-uncased\",\n",
              "  \"architectures\": [\n",
              "    \"BertForMaskedLM\"\n",
              "  ],\n",
              "  \"attention_probs_dropout_prob\": 0.1,\n",
              "  \"classifier_dropout\": null,\n",
              "  \"gradient_checkpointing\": false,\n",
              "  \"hidden_act\": \"gelu\",\n",
              "  \"hidden_dropout_prob\": 0.1,\n",
              "  \"hidden_size\": 768,\n",
              "  \"initializer_range\": 0.02,\n",
              "  \"intermediate_size\": 3072,\n",
              "  \"layer_norm_eps\": 1e-12,\n",
              "  \"max_position_embeddings\": 512,\n",
              "  \"model_type\": \"bert\",\n",
              "  \"num_attention_heads\": 12,\n",
              "  \"num_hidden_layers\": 12,\n",
              "  \"pad_token_id\": 0,\n",
              "  \"position_embedding_type\": \"absolute\",\n",
              "  \"transformers_version\": \"4.30.2\",\n",
              "  \"type_vocab_size\": 2,\n",
              "  \"use_cache\": true,\n",
              "  \"vocab_size\": 30522\n",
              "}"
            ]
          },
          "metadata": {},
          "execution_count": 9
        }
      ]
    },
    {
      "cell_type": "code",
      "source": [
        "class EncoderLayer(nn.Module):\n",
        "    def __init__(self, config):\n",
        "        super().__init__()\n",
        "        self.ln = nn.LayerNorm(config.hidden_size, eps=config.layer_norm_eps)\n",
        "        self.mha = nn.MultiheadAttention(embed_dim = config.hidden_size,\n",
        "                                            num_heads = config.num_attention_heads,\n",
        "                                            dropout = config.attention_probs_dropout_prob,\n",
        "                                            batch_first = True)\n",
        "        self.mlp = nn.Sequential(\n",
        "            nn.LayerNorm(config.hidden_size, eps=config.layer_norm_eps),\n",
        "            nn.Linear(config.hidden_size, config.intermediate_size),\n",
        "            nn.GELU(),\n",
        "            nn.Dropout(config.hidden_dropout_prob),\n",
        "            nn.Linear(config.intermediate_size, config.hidden_size),\n",
        "            nn.Dropout(config.hidden_dropout_prob),\n",
        "        )\n",
        "\n",
        "    def forward(self, x):\n",
        "        x = self.ln(x)\n",
        "        x = x + self.mha(x, x, x, need_weights=False)[0]\n",
        "        x = x + self.mlp(x)\n",
        "        return x"
      ],
      "metadata": {
        "id": "JSNAWXTzZW0J"
      },
      "execution_count": 10,
      "outputs": []
    },
    {
      "cell_type": "code",
      "source": [
        "torch.manual_seed(13)\n",
        "embedder = Embeddings(config)\n",
        "encoder_layer = EncoderLayer(config)\n",
        "input_embs = embedder(tokens.input_ids)\n",
        "attn_output = encoder_layer(input_embs)"
      ],
      "metadata": {
        "id": "YuGwSgQdf3hA"
      },
      "execution_count": 11,
      "outputs": []
    },
    {
      "cell_type": "code",
      "source": [
        "attn_output.size(), attn_output"
      ],
      "metadata": {
        "colab": {
          "base_uri": "https://localhost:8080/"
        },
        "id": "0jWWjt7Kh2Dq",
        "outputId": "9bae18c9-b5ec-4d89-8edb-a6dd1734949d"
      },
      "execution_count": 12,
      "outputs": [
        {
          "output_type": "execute_result",
          "data": {
            "text/plain": [
              "(torch.Size([1, 6, 768]),\n",
              " tensor([[[-0.3095, -0.1367,  0.8761,  ...,  0.6114, -0.1188,  0.5869],\n",
              "          [-2.4964,  0.2702,  0.2411,  ...,  0.2163, -2.1636,  0.3740],\n",
              "          [-1.8449, -0.1501,  0.1115,  ..., -0.1459, -1.0278,  0.1750],\n",
              "          [-0.4407, -0.2148, -1.1614,  ..., -0.2032,  2.0405, -0.0879],\n",
              "          [ 0.3524, -0.2698,  0.1365,  ..., -1.8543,  2.8713,  0.3415],\n",
              "          [ 0.0638,  0.1646,  0.3128,  ..., -0.5256, -0.1556,  0.1668]]],\n",
              "        grad_fn=<AddBackward0>))"
            ]
          },
          "metadata": {},
          "execution_count": 12
        }
      ]
    },
    {
      "cell_type": "code",
      "source": [
        "# torch built-in\n",
        "torch.manual_seed(13)\n",
        "embedder = Embeddings(config)\n",
        "encoder_layer = nn.TransformerEncoderLayer(d_model=768, # Hidden size - d_model = 512 in the original paper\n",
        "                                            nhead=12, # Number of heads\n",
        "                                            dim_feedforward=3072, # MLP size - 2048 in the original paper\n",
        "                                            dropout=0.1, # Amount of dropout for dense layers\n",
        "                                            activation=\"gelu\", # GELU non-linear activation - ReLU in the original paper\n",
        "                                            batch_first=True, # Do our batches come first?\n",
        "                                            norm_first=True) # Normalize first or after? False in the original paper\n",
        "input_embs = embedder(tokens.input_ids)\n",
        "attn_output = encoder_layer(input_embs)\n",
        "attn_output.size(), attn_output"
      ],
      "metadata": {
        "colab": {
          "base_uri": "https://localhost:8080/"
        },
        "id": "e3cnyjFch8sc",
        "outputId": "d7b10212-3f61-4356-8693-44fb4ce6c686"
      },
      "execution_count": 13,
      "outputs": [
        {
          "output_type": "execute_result",
          "data": {
            "text/plain": [
              "(torch.Size([1, 6, 768]),\n",
              " tensor([[[-0.2543, -0.0695,  1.3249,  ...,  1.0119, -0.2667,  0.6509],\n",
              "          [-3.6748,  0.2192,  0.2183,  ...,  0.3020, -3.0234,  0.3456],\n",
              "          [-2.6925,  0.2037, -0.0856,  ..., -0.3380, -1.5309,  0.2545],\n",
              "          [-0.9036, -0.4099, -1.5102,  ..., -0.1269,  2.5892, -0.1954],\n",
              "          [ 0.0365, -0.2197, -0.0721,  ..., -2.3647,  4.1379,  0.4813],\n",
              "          [ 0.0783,  0.1790,  0.3027,  ..., -0.3547, -0.3315,  0.2470]]],\n",
              "        grad_fn=<AddBackward0>))"
            ]
          },
          "metadata": {},
          "execution_count": 13
        }
      ]
    },
    {
      "cell_type": "code",
      "source": [
        "# torch built-in\n",
        "encoder_block = nn.TransformerEncoder(encoder_layer, num_layers=12, norm=nn.GELU())\n",
        "attn_out = encoder_block(input_embs)\n",
        "attn_out.size(), attn_out"
      ],
      "metadata": {
        "colab": {
          "base_uri": "https://localhost:8080/"
        },
        "id": "gRu0f-xOiq7y",
        "outputId": "9905a999-a0dd-432a-bd33-d4100f840fe0"
      },
      "execution_count": 14,
      "outputs": [
        {
          "output_type": "execute_result",
          "data": {
            "text/plain": [
              "(torch.Size([1, 6, 768]),\n",
              " tensor([[[ 1.1389e+00, -7.1901e-02,  1.4478e+00,  ..., -3.5197e-02,\n",
              "           -1.0566e-06,  2.2843e+00],\n",
              "          [ 0.0000e+00, -8.8637e-02,  2.4241e+00,  ..., -1.4967e-01,\n",
              "            0.0000e+00, -1.6726e-01],\n",
              "          [ 0.0000e+00, -3.0400e-02,  2.2148e+00,  ..., -6.8196e-02,\n",
              "            0.0000e+00, -5.5695e-02],\n",
              "          [-4.2814e-04,  9.0434e-01, -1.4771e-01,  ..., -1.6984e-01,\n",
              "            4.8173e-01, -1.4140e-01],\n",
              "          [ 7.4693e-01, -5.3238e-04, -1.1459e-01,  ...,  0.0000e+00,\n",
              "            1.9923e-01, -1.6861e-01],\n",
              "          [ 7.2464e-01,  4.9042e-01,  3.3780e+00,  ..., -9.0422e-02,\n",
              "           -3.4072e-02,  4.0730e-01]]], grad_fn=<GeluBackward0>))"
            ]
          },
          "metadata": {},
          "execution_count": 14
        }
      ]
    },
    {
      "cell_type": "code",
      "source": [
        "attn_out.mean(dim=-1), attn_out.std(dim=-1)"
      ],
      "metadata": {
        "colab": {
          "base_uri": "https://localhost:8080/"
        },
        "id": "uoOlwY1tk1MP",
        "outputId": "5ae00a23-f698-4471-ef01-d4f993eb8f9d"
      },
      "execution_count": 15,
      "outputs": [
        {
          "output_type": "execute_result",
          "data": {
            "text/plain": [
              "(tensor([[1.5086, 1.5549, 1.4868, 1.4596, 1.4525, 1.4986]],\n",
              "        grad_fn=<MeanBackward1>),\n",
              " tensor([[2.3516, 2.4070, 2.3345, 2.2248, 2.2195, 2.3881]],\n",
              "        grad_fn=<StdBackward0>))"
            ]
          },
          "metadata": {},
          "execution_count": 15
        }
      ]
    },
    {
      "cell_type": "markdown",
      "source": [
        "# Cross-attention"
      ],
      "metadata": {
        "id": "XmzhgSL26QOo"
      }
    },
    {
      "cell_type": "code",
      "source": [
        "transformer = nn.Transformer()\n",
        "transformer"
      ],
      "metadata": {
        "colab": {
          "base_uri": "https://localhost:8080/"
        },
        "id": "ePgc4P4C6R5r",
        "outputId": "8bbeeb0f-551d-4910-8a05-9ad95753588e"
      },
      "execution_count": 16,
      "outputs": [
        {
          "output_type": "execute_result",
          "data": {
            "text/plain": [
              "Transformer(\n",
              "  (encoder): TransformerEncoder(\n",
              "    (layers): ModuleList(\n",
              "      (0-5): 6 x TransformerEncoderLayer(\n",
              "        (self_attn): MultiheadAttention(\n",
              "          (out_proj): NonDynamicallyQuantizableLinear(in_features=512, out_features=512, bias=True)\n",
              "        )\n",
              "        (linear1): Linear(in_features=512, out_features=2048, bias=True)\n",
              "        (dropout): Dropout(p=0.1, inplace=False)\n",
              "        (linear2): Linear(in_features=2048, out_features=512, bias=True)\n",
              "        (norm1): LayerNorm((512,), eps=1e-05, elementwise_affine=True)\n",
              "        (norm2): LayerNorm((512,), eps=1e-05, elementwise_affine=True)\n",
              "        (dropout1): Dropout(p=0.1, inplace=False)\n",
              "        (dropout2): Dropout(p=0.1, inplace=False)\n",
              "      )\n",
              "    )\n",
              "    (norm): LayerNorm((512,), eps=1e-05, elementwise_affine=True)\n",
              "  )\n",
              "  (decoder): TransformerDecoder(\n",
              "    (layers): ModuleList(\n",
              "      (0-5): 6 x TransformerDecoderLayer(\n",
              "        (self_attn): MultiheadAttention(\n",
              "          (out_proj): NonDynamicallyQuantizableLinear(in_features=512, out_features=512, bias=True)\n",
              "        )\n",
              "        (multihead_attn): MultiheadAttention(\n",
              "          (out_proj): NonDynamicallyQuantizableLinear(in_features=512, out_features=512, bias=True)\n",
              "        )\n",
              "        (linear1): Linear(in_features=512, out_features=2048, bias=True)\n",
              "        (dropout): Dropout(p=0.1, inplace=False)\n",
              "        (linear2): Linear(in_features=2048, out_features=512, bias=True)\n",
              "        (norm1): LayerNorm((512,), eps=1e-05, elementwise_affine=True)\n",
              "        (norm2): LayerNorm((512,), eps=1e-05, elementwise_affine=True)\n",
              "        (norm3): LayerNorm((512,), eps=1e-05, elementwise_affine=True)\n",
              "        (dropout1): Dropout(p=0.1, inplace=False)\n",
              "        (dropout2): Dropout(p=0.1, inplace=False)\n",
              "        (dropout3): Dropout(p=0.1, inplace=False)\n",
              "      )\n",
              "    )\n",
              "    (norm): LayerNorm((512,), eps=1e-05, elementwise_affine=True)\n",
              "  )\n",
              ")"
            ]
          },
          "metadata": {},
          "execution_count": 16
        }
      ]
    },
    {
      "cell_type": "markdown",
      "source": [
        "The output of the whole encoder stack is fed into the whole decoder stack. It is not the output of each encoder layer is fed into each decoder layer as I have worried about."
      ],
      "metadata": {
        "id": "75jDnauF68iE"
      }
    },
    {
      "cell_type": "code",
      "source": [
        "out_embedder = Embeddings(config)"
      ],
      "metadata": {
        "id": "hhNh9X0Q78pk"
      },
      "execution_count": 17,
      "outputs": []
    },
    {
      "cell_type": "code",
      "source": [
        "out_text = \"Die Zeit fliegt wie ein Pfeil.\"\n",
        "out_tokens = tokenizer(out_text, return_tensors='pt', add_special_tokens=False)\n",
        "out_tokens.input_ids.size()"
      ],
      "metadata": {
        "colab": {
          "base_uri": "https://localhost:8080/"
        },
        "id": "20LsyqLN7H_t",
        "outputId": "895c1c34-bd67-4349-9d36-307757c33a04"
      },
      "execution_count": 18,
      "outputs": [
        {
          "output_type": "execute_result",
          "data": {
            "text/plain": [
              "torch.Size([1, 13])"
            ]
          },
          "metadata": {},
          "execution_count": 18
        }
      ]
    },
    {
      "cell_type": "code",
      "source": [
        "out_embs = out_embedder(out_tokens.input_ids)\n",
        "out_embs.size(), out_embs"
      ],
      "metadata": {
        "colab": {
          "base_uri": "https://localhost:8080/"
        },
        "id": "a9yQATfv7453",
        "outputId": "e1995b9e-275f-4ac1-9d2d-3ff369249d62"
      },
      "execution_count": 21,
      "outputs": [
        {
          "output_type": "execute_result",
          "data": {
            "text/plain": [
              "(torch.Size([1, 13, 768]),\n",
              " tensor([[[-1.0874,  0.0000, -0.0000,  ..., -0.0000, -0.0000,  2.4156],\n",
              "          [-0.4436, -0.0000,  0.0000,  ..., -0.8739, -1.7109, -3.8949],\n",
              "          [-1.0612,  0.0000, -0.2693,  ...,  1.2509, -0.0000,  0.0000],\n",
              "          ...,\n",
              "          [ 0.9750,  2.0410,  0.0000,  ..., -0.0000,  0.0000, -0.2905],\n",
              "          [ 0.0000,  2.2961,  1.8994,  ..., -0.0000, -0.0000,  0.0000],\n",
              "          [ 0.0000,  2.9155, -3.7012,  ...,  0.0000, -0.4442, -0.0000]]],\n",
              "        grad_fn=<MulBackward0>))"
            ]
          },
          "metadata": {},
          "execution_count": 21
        }
      ]
    },
    {
      "cell_type": "code",
      "source": [
        "class DecoderLayer(nn.Module):\n",
        "    def __init__(self, config):\n",
        "        super().__init__()\n",
        "        self.ln_1 = nn.LayerNorm(config.hidden_size, eps=config.layer_norm_eps)\n",
        "        self.ln_2 = nn.LayerNorm(config.hidden_size, eps=config.layer_norm_eps)\n",
        "        self.masked_mha = nn.MultiheadAttention(embed_dim = config.hidden_size,\n",
        "                                                num_heads = config.num_attention_heads,\n",
        "                                                dropout = config.attention_probs_dropout_prob,\n",
        "                                                batch_first = True)\n",
        "        self.cross_mha = nn.MultiheadAttention(embed_dim = config.hidden_size,\n",
        "                                                num_heads = config.num_attention_heads,\n",
        "                                                dropout = config.attention_probs_dropout_prob,\n",
        "                                                batch_first = True)\n",
        "        self.mlp = nn.Sequential(\n",
        "            nn.LayerNorm(config.hidden_size, eps=config.layer_norm_eps),\n",
        "            nn.Linear(config.hidden_size, config.intermediate_size),\n",
        "            nn.GELU(),\n",
        "            nn.Dropout(config.hidden_dropout_prob),\n",
        "            nn.Linear(config.intermediate_size, config.hidden_size),\n",
        "            nn.Dropout(config.hidden_dropout_prob),\n",
        "        )\n",
        "\n",
        "    def forward(self, x, targets):\n",
        "        seq_len = x.size(1)\n",
        "        tril = torch.tril(torch.ones(seq_len, seq_len))\n",
        "        x = self.ln_1(x)\n",
        "        x = x + self.masked_mha(x, x, x, need_weights=False, attn_mask=tril)[0]\n",
        "        x = self.ln_2(x)\n",
        "        x = x + self.cross_mha(x, targets, targets, need_weights=False)[0]\n",
        "        x = x + self.mlp(x)\n",
        "        return x"
      ],
      "metadata": {
        "id": "tPsUyUkA8dY-"
      },
      "execution_count": 33,
      "outputs": []
    },
    {
      "cell_type": "code",
      "source": [
        "decoder_layer = DecoderLayer(config)"
      ],
      "metadata": {
        "id": "mz0zynJmAvfL"
      },
      "execution_count": 34,
      "outputs": []
    },
    {
      "cell_type": "code",
      "source": [
        "fin_attn = decoder_layer(out_embs, attn_out)\n",
        "fin_attn.shape, fin_attn"
      ],
      "metadata": {
        "colab": {
          "base_uri": "https://localhost:8080/"
        },
        "id": "uxoQh5iyA_nC",
        "outputId": "0ef919b8-477f-4e38-9675-5e89e3b22c0d"
      },
      "execution_count": 36,
      "outputs": [
        {
          "output_type": "execute_result",
          "data": {
            "text/plain": [
              "(torch.Size([1, 13, 768]),\n",
              " tensor([[[ 0.4823,  0.9333,  2.7316,  ..., -0.1462,  1.2293,  3.0945],\n",
              "          [ 1.4167,  0.3474,  3.0290,  ..., -0.6089,  0.2863, -1.6745],\n",
              "          [ 0.9513,  0.3664,  2.4151,  ...,  1.0125,  1.3159,  1.2196],\n",
              "          ...,\n",
              "          [ 1.9623,  1.9298,  2.6363,  ..., -0.0759,  0.8840,  0.6493],\n",
              "          [ 1.7121,  2.1650,  3.5570,  ...,  0.0386,  1.5015,  1.3978],\n",
              "          [ 2.0135,  2.2830, -0.3611,  ..., -0.3804,  1.2136,  0.7575]]],\n",
              "        grad_fn=<AddBackward0>))"
            ]
          },
          "metadata": {},
          "execution_count": 36
        }
      ]
    },
    {
      "cell_type": "code",
      "source": [
        "decoder_layer = nn.TransformerDecoderLayer(d_model=768,\n",
        "                                            nhead=12,\n",
        "                                            dim_feedforward=3072,\n",
        "                                            dropout=0.1,\n",
        "                                            activation=\"gelu\",\n",
        "                                            batch_first=True,\n",
        "                                            norm_first=True)"
      ],
      "metadata": {
        "id": "PT5rX08-Brnz"
      },
      "execution_count": 37,
      "outputs": []
    },
    {
      "cell_type": "code",
      "source": [
        "nn_attn = decoder_layer(out_embs, attn_out)\n",
        "nn_attn.size(), nn_attn"
      ],
      "metadata": {
        "colab": {
          "base_uri": "https://localhost:8080/"
        },
        "id": "WqtQ10IoCHux",
        "outputId": "6f736787-9ce0-41c5-9610-016b908ae1c2"
      },
      "execution_count": 39,
      "outputs": [
        {
          "output_type": "execute_result",
          "data": {
            "text/plain": [
              "(torch.Size([1, 13, 768]),\n",
              " tensor([[[-1.6848,  1.3700, -1.1266,  ..., -0.4563, -0.4142,  2.1117],\n",
              "          [-1.0528,  0.2012, -1.2836,  ..., -0.8361, -1.6717, -3.9338],\n",
              "          [-1.5154,  0.5556, -1.9454,  ...,  1.2982,  0.2885, -0.6141],\n",
              "          ...,\n",
              "          [ 0.6797,  3.1068, -0.0083,  ..., -0.4355,  0.0760, -0.2905],\n",
              "          [ 0.2414,  3.1351,  0.5836,  ...,  0.0694,  0.9064, -0.2163],\n",
              "          [-0.5599,  4.0275, -5.1363,  ..., -0.6990, -0.0588, -0.0551]]],\n",
              "        grad_fn=<AddBackward0>))"
            ]
          },
          "metadata": {},
          "execution_count": 39
        }
      ]
    },
    {
      "cell_type": "code",
      "source": [
        "transformer = nn.Transformer(d_model=768,\n",
        "                                nhead=12,\n",
        "                                dim_feedforward=3072,\n",
        "                                dropout=0.1,\n",
        "                                activation=\"gelu\",\n",
        "                                batch_first=True,\n",
        "                                norm_first=True)\n",
        "trans_attn = transformer(input_embs, out_embs)\n",
        "trans_attn.size(), trans_attn"
      ],
      "metadata": {
        "colab": {
          "base_uri": "https://localhost:8080/"
        },
        "id": "71cXHNOECQI9",
        "outputId": "25345473-e9e7-435b-f258-e37a74bd7866"
      },
      "execution_count": 40,
      "outputs": [
        {
          "output_type": "execute_result",
          "data": {
            "text/plain": [
              "(torch.Size([1, 13, 768]),\n",
              " tensor([[[-1.1917,  1.1229, -0.5712,  ...,  0.1839, -0.6941,  1.1376],\n",
              "          [-0.7294,  0.2228,  0.0463,  ...,  0.1341, -1.1323, -1.5835],\n",
              "          [-1.9350,  1.0680, -0.7251,  ...,  0.5380, -0.2834, -0.1388],\n",
              "          ...,\n",
              "          [-1.0327,  0.7142,  0.0236,  ..., -0.1222,  0.0857, -0.2588],\n",
              "          [-1.8987,  1.2154,  1.3066,  ...,  0.3801, -0.1634,  0.2587],\n",
              "          [-0.1824,  0.6913, -1.1397,  ...,  0.3787, -0.6034, -0.9291]]],\n",
              "        grad_fn=<NativeLayerNormBackward0>))"
            ]
          },
          "metadata": {},
          "execution_count": 40
        }
      ]
    },
    {
      "cell_type": "markdown",
      "source": [
        "Great! Now let's train that model from scratch"
      ],
      "metadata": {
        "id": "4wZQTc50C6yj"
      }
    }
  ],
  "metadata": {
    "kernelspec": {
      "display_name": "nlpbook",
      "language": "python",
      "name": "python3"
    },
    "language_info": {
      "codemirror_mode": {
        "name": "ipython",
        "version": 3
      },
      "file_extension": ".py",
      "mimetype": "text/x-python",
      "name": "python",
      "nbconvert_exporter": "python",
      "pygments_lexer": "ipython3",
      "version": "3.10.12"
    },
    "orig_nbformat": 4,
    "colab": {
      "provenance": []
    }
  },
  "nbformat": 4,
  "nbformat_minor": 0
}